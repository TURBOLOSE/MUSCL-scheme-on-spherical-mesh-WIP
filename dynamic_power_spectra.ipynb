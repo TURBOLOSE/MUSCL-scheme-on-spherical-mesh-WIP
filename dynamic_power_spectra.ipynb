{
 "cells": [
  {
   "cell_type": "code",
   "execution_count": 42,
   "metadata": {},
   "outputs": [],
   "source": [
    "import numpy as np\n",
    "import pandas as pd\n",
    "import matplotlib.pyplot as plt\n",
    "from scipy.stats import linregress\n",
    "from astropy.timeseries import LombScargle\n",
    "import matplotlib as mpl\n",
    "\n",
    "\n",
    "plt.rcParams.update({'figure.dpi': '300'})\n",
    "path_to_res='results/'\n",
    "#path_to_res='plots/big_quad_res/'\n",
    "\n",
    "\n"
   ]
  },
  {
   "cell_type": "markdown",
   "metadata": {},
   "source": [
    "Reading LC data"
   ]
  },
  {
   "cell_type": "code",
   "execution_count": 13,
   "metadata": {},
   "outputs": [],
   "source": [
    "\n",
    "data_0=np.array(pd.read_table(path_to_res+'lightcurve0.dat', delimiter=r\"\\s+\", header=None))\n",
    "data_45=np.array(pd.read_table(path_to_res+'lightcurve45.dat', delimiter=r\"\\s+\", header=None))\n",
    "data_90=np.array(pd.read_table(path_to_res+'lightcurve90.dat', delimiter=r\"\\s+\", header=None))\n",
    "data_180=np.array(pd.read_table(path_to_res+'lightcurve180.dat', delimiter=r\"\\s+\", header=None))\n",
    "\n",
    "\n",
    "#all down to 1 size\n",
    "maxstep=np.min([len(data_0[:,0]),len(data_45[:,0]),len(data_90[:,0])])\n",
    "\n",
    "t=data_0[:maxstep,0]*3.3e-5\n",
    "\n",
    "data_0=data_0[:maxstep]\n",
    "data_45=data_45[:maxstep]\n",
    "data_90=data_90[:maxstep]\n",
    "data_180=data_180[:maxstep]"
   ]
  },
  {
   "cell_type": "code",
   "execution_count": null,
   "metadata": {},
   "outputs": [],
   "source": [
    "#filtered_0=savgol_filter(data_0[:,1], window_length=80000, polyorder=3, mode=\"nearest\")\n",
    "\n",
    "model = np.polyfit(t, data_0[:,1], 3)\n",
    "filtered_0 = np.polyval(model, t)\n",
    "\n",
    "plt.plot(t,data_0[:,1])\n",
    "plt.plot(t,filtered_0)\n",
    "plt.xlabel('t')\n",
    "plt.ylabel('L')"
   ]
  },
  {
   "cell_type": "code",
   "execution_count": null,
   "metadata": {},
   "outputs": [],
   "source": [
    "#filtered_45=savgol_filter(data_45[:,1], window_length=80000, polyorder=3, mode=\"nearest\")\n",
    "\n",
    "model = np.polyfit(t, data_45[:,1], 3)\n",
    "filtered_45 = np.polyval(model, t)\n",
    "\n",
    "\n",
    "plt.plot(t,data_45[:,1])\n",
    "plt.plot(t,filtered_45)\n",
    "plt.xlabel('t')\n",
    "plt.ylabel('L')"
   ]
  },
  {
   "cell_type": "code",
   "execution_count": null,
   "metadata": {},
   "outputs": [],
   "source": [
    "#filtered_90=savgol_filter(data_90[:,1], window_length=80000, polyorder=3, mode=\"nearest\")\n",
    "\n",
    "model = np.polyfit(t, data_90[:,1], 3)\n",
    "filtered_90 = np.polyval(model, t)\n",
    "\n",
    "\n",
    "plt.plot(t,data_90[:,1])\n",
    "plt.plot(t,filtered_90)\n",
    "plt.xlabel('t')\n",
    "plt.ylabel('L')"
   ]
  },
  {
   "cell_type": "code",
   "execution_count": null,
   "metadata": {},
   "outputs": [],
   "source": [
    "#filtered_180=savgol_filter(data_180[:,1], window_length=80000, polyorder=3, mode=\"nearest\")\n",
    "\n",
    "model = np.polyfit(t, data_180[:,1], 3)\n",
    "filtered_180 = np.polyval(model, t)\n",
    "\n",
    "\n",
    "plt.plot(t,data_180[:,1])\n",
    "plt.plot(t,filtered_180)\n",
    "plt.xlabel('t')\n",
    "plt.ylabel('L')"
   ]
  },
  {
   "cell_type": "markdown",
   "metadata": {},
   "source": [
    "Removing the trend"
   ]
  },
  {
   "cell_type": "code",
   "execution_count": 18,
   "metadata": {},
   "outputs": [],
   "source": [
    "\n",
    "lc_0=data_0[:,1]-filtered_0\n",
    "lc_45=data_45[:,1]-filtered_45\n",
    "lc_90=data_90[:,1]-filtered_90\n",
    "lc_180=data_180[:,1]-filtered_180"
   ]
  },
  {
   "cell_type": "markdown",
   "metadata": {},
   "source": [
    "Splitting arrays into parts"
   ]
  },
  {
   "cell_type": "code",
   "execution_count": 19,
   "metadata": {},
   "outputs": [],
   "source": [
    "N_splits=10\n",
    "\n",
    "t_split=np.array_split(t,N_splits)\n",
    "lc_0_split=np.array_split(lc_0,N_splits)\n",
    "lc_45_split=np.array_split(lc_45,N_splits)\n",
    "lc_90_split=np.array_split(lc_90,N_splits)\n",
    "lc_180_split=np.array_split(lc_180,N_splits)"
   ]
  },
  {
   "cell_type": "markdown",
   "metadata": {},
   "source": [
    "Computing the power spectra"
   ]
  },
  {
   "cell_type": "code",
   "execution_count": null,
   "metadata": {},
   "outputs": [],
   "source": [
    "max_freq=200\n",
    "\n",
    "freq_0=[]\n",
    "pow_0=[]\n",
    "\n",
    "freq_45=[]\n",
    "pow_45=[]\n",
    "\n",
    "freq_90=[]\n",
    "pow_90=[]\n",
    "\n",
    "\n",
    "freq_180=[]\n",
    "pow_180=[]\n",
    "\n",
    "for num,t_el in enumerate(t_split):\n",
    "    fr, po = LombScargle(t_el,lc_0_split[num]).autopower(samples_per_peak=10,nyquist_factor=1, maximum_frequency=max_freq)\n",
    "    freq_0.append(fr)\n",
    "    pow_0.append(po)\n",
    "    fr, po = LombScargle(t_el,lc_45_split[num]).autopower(samples_per_peak=10,nyquist_factor=1, maximum_frequency=max_freq)\n",
    "    freq_45.append(fr)\n",
    "    pow_45.append(po)\n",
    "    fr, po = LombScargle(t_el,lc_90_split[num]).autopower(samples_per_peak=10,nyquist_factor=1, maximum_frequency=max_freq)\n",
    "    freq_90.append(fr)\n",
    "    pow_90.append(po)\n",
    "    fr, po = LombScargle(t_el,lc_180_split[num]).autopower(samples_per_peak=10,nyquist_factor=1, maximum_frequency=max_freq)\n",
    "    freq_180.append(fr)\n",
    "    pow_180.append(po)\n",
    "\n",
    "print(len(fr))"
   ]
  },
  {
   "cell_type": "code",
   "execution_count": 21,
   "metadata": {},
   "outputs": [],
   "source": [
    "start_times = [item[0] for item in t_split]\n",
    "start_times.append(t_split[-1][-1])"
   ]
  },
  {
   "cell_type": "markdown",
   "metadata": {},
   "source": [
    "Computing omegas. \n",
    "If your omega.dat is big the reading process might take a while"
   ]
  },
  {
   "cell_type": "code",
   "execution_count": 22,
   "metadata": {},
   "outputs": [],
   "source": [
    "n_rows = 2500 #temp fix for big files\n",
    "skip = np.arange(n_rows)\n",
    "skip = np.delete(skip, np.arange(0, n_rows, 5))\n"
   ]
  },
  {
   "cell_type": "code",
   "execution_count": 33,
   "metadata": {},
   "outputs": [],
   "source": [
    "data_omega=pd.read_table(path_to_res+'omega.dat', delimiter=r\"\\s+\", header=None, skiprows = skip)\n",
    "face_centers=pd.read_table(path_to_res+'face_centers.dat', header=None, delimiter=r\"\\s+\")\n",
    "face_centers=np.array(face_centers)\n",
    "theta_fc=np.arccos(face_centers[:,2]/np.linalg.norm(face_centers, axis=1))\n",
    "mask=np.logical_and(theta_fc > 0.03*np.pi, theta_fc < 0.996 * np.pi)\n",
    "\n",
    "\n",
    "maxstep=len(data_omega.loc[:,0])\n",
    "t_omega=data_omega.loc[:,0]\n",
    "om_avg=[]\n",
    "\n",
    "for i in range(maxstep):\n",
    "    om_avg.append(np.average(data_omega.loc[i,1:][mask]))\n",
    "\n",
    "om_avg=np.array(om_avg)\n",
    "om_avg/=(3.3e-5*2*np.pi)\n",
    "t_omega*=3.3e-5\n"
   ]
  },
  {
   "cell_type": "markdown",
   "metadata": {},
   "source": [
    "Same as before, but here we compute the cyclone frequency via finding the pressure minimum.\n",
    "It may also take a while if p.dat is a large file."
   ]
  },
  {
   "cell_type": "code",
   "execution_count": 34,
   "metadata": {},
   "outputs": [],
   "source": [
    "n_rows = 2500 #temp fix for big files\n",
    "skip = np.arange(n_rows)\n",
    "skip = np.delete(skip, np.arange(0, n_rows, 5))\n"
   ]
  },
  {
   "cell_type": "code",
   "execution_count": 35,
   "metadata": {},
   "outputs": [],
   "source": [
    "data_curl=pd.read_table(path_to_res+'p.dat', delimiter=r\"\\s+\", header=None, skiprows = skip)\n"
   ]
  },
  {
   "cell_type": "code",
   "execution_count": 36,
   "metadata": {},
   "outputs": [],
   "source": [
    "face_centers=pd.read_table(path_to_res+'face_centers.dat', header=None, delimiter=r\"\\s+\")\n",
    "fc=np.array(face_centers)\n",
    "phi_fc=np.arctan2(fc[:,1]/np.linalg.norm(fc, axis=1),fc[:,0]/np.linalg.norm(fc, axis=1))\n",
    "maxstep=len(data_curl.loc[:,0])\n",
    "theta_fc=np.arccos(fc[:,2]/np.linalg.norm(fc, axis=1))\n",
    "t=data_curl.loc[:,0]*3.3e-5\n",
    "phi_cyclon=[]\n",
    "theta_cyclon=[]\n",
    "for i in range(maxstep):\n",
    "    phi_cyclon.append(phi_fc[np.argmin(data_curl.loc[i,1:98304])])\n",
    "    theta_cyclon.append(theta_fc[np.argmin(data_curl.loc[i,1:98304])])\n"
   ]
  },
  {
   "cell_type": "code",
   "execution_count": 38,
   "metadata": {},
   "outputs": [],
   "source": [
    "phi_cyclon=np.array(phi_cyclon)\n",
    "theta_cyclon=np.array(theta_cyclon)\n",
    "t=np.array(t)\n",
    "der=(phi_cyclon[1:]-phi_cyclon[:-1])/(t[1:]-t[:-1])\n",
    "\n",
    "der2=(theta_cyclon[1:]-theta_cyclon[:-1])/(t[1:]-t[:-1])\n",
    "\n",
    "der_f=np.delete(der,np.where(der<0))\n",
    "t_f=np.delete(t[1:],np.where(der<0))\n",
    "der2_f=np.delete(der2,np.where(der<0))\n",
    "#t_omega_cycl=t_f[160:]\n",
    "#om_avg_cycl=der_f[160:]/(2*np.pi)\n",
    "t_omega_cycl=t_f\n",
    "om_avg_cycl=der_f/(2*np.pi)"
   ]
  },
  {
   "cell_type": "markdown",
   "metadata": {},
   "source": [
    "Plots"
   ]
  },
  {
   "cell_type": "code",
   "execution_count": 29,
   "metadata": {},
   "outputs": [],
   "source": [
    "max_freq+=1"
   ]
  },
  {
   "cell_type": "code",
   "execution_count": null,
   "metadata": {},
   "outputs": [],
   "source": [
    "colorm = plt.get_cmap('viridis')\n",
    "plt.rcParams.update({'font.size': 22})\n",
    "\n",
    "#for whatever reason min and np.min do not want to work\n",
    "#with an array consisting of multiple arrays of different lengths\n",
    "#filling small ones with zeros will ruin some things btw\n",
    "\n",
    "mins=[]\n",
    "maxs=[]\n",
    "for po in pow_0: \n",
    "    mins.append(min(po))\n",
    "    maxs.append(max(po))\n",
    "\n",
    "min_gl=min(mins)\n",
    "max_gl=max(maxs)\n",
    "\n",
    "norm = mpl.colors.Normalize(vmin=min_gl, vmax=max_gl)\n",
    "\n",
    "\n",
    "\n",
    "fig, ax = plt.subplots(figsize=(10, 10), layout='constrained', nrows=2,height_ratios=[15,1])\n",
    "plt.subplots_adjust(hspace=10)\n",
    "fig.suptitle(r'Dynamic power spectrum, $\\theta_{\\rm obs}=90$°')\n",
    "ax[0].set_xlabel(r'Freq, Hz', fontsize=25)\n",
    "ax[0].set_ylabel(r'Simulation time, s', fontsize=25)\n",
    "\n",
    "\n",
    "\n",
    "for ind, freq_arr in enumerate(freq_0):\n",
    "    for el_num, el in enumerate(freq_0[ind]):\n",
    "        \n",
    "        y=[start_times[ind],start_times[ind],start_times[ind+1],start_times[ind+1]]\n",
    "        if(el_num+1!=len(freq_0[ind])):\n",
    "            x=[freq_0[ind][el_num],freq_0[ind][el_num+1],freq_0[ind][el_num+1],freq_0[ind][el_num]]\n",
    "        else:\n",
    "            x=[freq_0[ind][el_num],max_freq,max_freq,freq_0[ind][el_num]]\n",
    "        ax[0].fill(x, y,facecolor=colorm(norm(pow_0[ind][el_num])),edgecolor =colorm(norm(pow_0[ind][el_num])))\n",
    "\n",
    "\n",
    "\n",
    "ax[0].plot(om_avg_cycl[::6],t_omega_cycl[::6], color='#ff4538',linewidth=3, label=r\"$\\nu_{\\rm cycl}$\",linestyle='solid')\n",
    "ax[0].plot(om_avg[::21],t_omega[::21], color='tab:orange',linewidth=3, label=r\"$\\nu$\", marker='.', markersize=10)\n",
    "ax[0].plot(2*om_avg[::21],t_omega[::21], color='#f2ff38',linewidth=3, label=r\"$2 \\nu$\", marker='D', markersize=5)\n",
    "#ax[0].plot(2*om_avg_cycl,t_omega_cycl, color='tab:red',linewidth=3, label=r\"$2 \\nu_{\\rm cycl}$\")\n",
    "ax[0].legend(loc=4)\n",
    "\n",
    "\n",
    "fig.colorbar(mpl.cm.ScalarMappable(norm=norm, cmap=colorm),cax=ax[1], orientation='horizontal', label=\"Power\")\n",
    "fig.savefig('plots/dymamic_power_spec_0.png', bbox_inches='tight')\n"
   ]
  },
  {
   "cell_type": "code",
   "execution_count": null,
   "metadata": {},
   "outputs": [],
   "source": [
    "colorm = plt.get_cmap('viridis')\n",
    "#max_freq+=1\n",
    "plt.rcParams.update({'font.size': 22})\n",
    "\n",
    "#for whatever reason min and np.min do not want to work\n",
    "#with an array consisting of multiple arrays of different lengths\n",
    "#filling small ones with zeros will ruin some things btw\n",
    "\n",
    "mins=[]\n",
    "maxs=[]\n",
    "for po in pow_45: \n",
    "    mins.append(min(po))\n",
    "    maxs.append(max(po))\n",
    "\n",
    "min_gl=min(mins)\n",
    "max_gl=max(maxs)\n",
    "\n",
    "norm = mpl.colors.Normalize(vmin=min_gl, vmax=max_gl)\n",
    "\n",
    "\n",
    "\n",
    "fig, ax = plt.subplots(figsize=(10, 10), layout='constrained', nrows=2,height_ratios=[15,1])\n",
    "plt.subplots_adjust(hspace=10)\n",
    "fig.suptitle(r'Dynamic power spectrum, $\\theta_{\\rm obs}=45$°')\n",
    "ax[0].set_xlabel(r'Freq, Hz', fontsize=25)\n",
    "ax[0].set_ylabel(r'Simulation time, s', fontsize=25)\n",
    "\n",
    "\n",
    "\n",
    "for ind, freq_arr in enumerate(freq_45):\n",
    "    for el_num, el in enumerate(freq_45[ind]):\n",
    "        \n",
    "        y=[start_times[ind],start_times[ind],start_times[ind+1],start_times[ind+1]]\n",
    "        if(el_num+1!=len(freq_45[ind])):\n",
    "            x=[freq_45[ind][el_num],freq_45[ind][el_num+1],freq_45[ind][el_num+1],freq_45[ind][el_num]]\n",
    "        else:\n",
    "            x=[freq_45[ind][el_num],max_freq,max_freq,freq_45[ind][el_num]]\n",
    "        ax[0].fill(x, y,facecolor=colorm(norm(pow_45[ind][el_num])),edgecolor =colorm(norm(pow_45[ind][el_num])))\n",
    "\n",
    "\n",
    "\n",
    "ax[0].plot(om_avg_cycl[::6],t_omega_cycl[::6], color='#ff4538',linewidth=3, label=r\"$\\nu_{\\rm cycl}$\",linestyle='solid')\n",
    "ax[0].plot(om_avg[::21],t_omega[::21], color='tab:orange',linewidth=3, label=r\"$\\nu$\", marker='.', markersize=10)\n",
    "ax[0].plot(2*om_avg[::21],t_omega[::21], color='#f2ff38',linewidth=3, label=r\"$2 \\nu$\", marker='D', markersize=5)\n",
    "#ax[0].plot(2*om_avg_cycl,t_omega_cycl, color='tab:red',linewidth=3, label=r\"$2 \\nu_{\\rm cycl}$\")\n",
    "ax[0].legend(loc=4)\n",
    "\n",
    "\n",
    "\n",
    "fig.colorbar(mpl.cm.ScalarMappable(norm=norm, cmap=colorm),cax=ax[1], orientation='horizontal', label=\"Power\")\n",
    "fig.savefig('plots/dymamic_power_spec_45.png', bbox_inches='tight')\n"
   ]
  },
  {
   "cell_type": "code",
   "execution_count": null,
   "metadata": {},
   "outputs": [],
   "source": [
    "colorm = plt.get_cmap('viridis')\n",
    "#max_freq+=1\n",
    "plt.rcParams.update({'font.size': 22})\n",
    "\n",
    "#for whatever reason min and np.min do not want to work\n",
    "#with an array consisting of multiple arrays of different lengths\n",
    "#filling small ones with zeros will ruin some things btw\n",
    "\n",
    "mins=[]\n",
    "maxs=[]\n",
    "\n",
    "for po in pow_90:\n",
    "    mins.append(min(po))\n",
    "    maxs.append(max(po))\n",
    "\n",
    "min_gl=min(mins)\n",
    "max_gl=max(maxs)\n",
    "\n",
    "norm = mpl.colors.Normalize(vmin=min_gl, vmax=max_gl)\n",
    "\n",
    "\n",
    "\n",
    "fig, ax = plt.subplots(figsize=(10, 10), layout='constrained', nrows=2,height_ratios=[15,1])\n",
    "plt.subplots_adjust(hspace=10)\n",
    "fig.suptitle(r'Dynamic power spectrum, $\\theta_{\\rm obs}=0$° (North pole)')\n",
    "ax[0].set_xlabel(r'Freq, Hz', fontsize=25)\n",
    "ax[0].set_ylabel(r'Simulation time, s', fontsize=25)\n",
    "\n",
    "\n",
    "\n",
    "for ind, freq_arr in enumerate(freq_90):\n",
    "    for el_num, el in enumerate(freq_90[ind]):\n",
    "        \n",
    "        y=[start_times[ind],start_times[ind],start_times[ind+1],start_times[ind+1]]\n",
    "        if(el_num+1!=len(freq_90[ind])):\n",
    "            x=[freq_90[ind][el_num],freq_90[ind][el_num+1],freq_90[ind][el_num+1],freq_90[ind][el_num]]\n",
    "        else:\n",
    "            x=[freq_90[ind][el_num],max_freq,max_freq,freq_90[ind][el_num]]\n",
    "        ax[0].fill(x, y,facecolor=colorm(norm(pow_90[ind][el_num])),edgecolor =colorm(norm(pow_90[ind][el_num])))\n",
    "\n",
    "\n",
    "\n",
    "ax[0].plot(om_avg_cycl[::6],t_omega_cycl[::6], color='#ff4538',linewidth=3, label=r\"$\\nu_{\\rm cycl}$\",linestyle='solid')\n",
    "ax[0].plot(om_avg[::21],t_omega[::21], color='tab:orange',linewidth=3, label=r\"$\\nu$\", marker='.', markersize=10)\n",
    "ax[0].plot(2*om_avg[::21],t_omega[::21], color='#f2ff38',linewidth=3, label=r\"$2 \\nu$\", marker='D', markersize=5)\n",
    "#ax[0].plot(2*om_avg_cycl,t_omega_cycl, color='tab:red',linewidth=3, label=r\"$2 \\nu_{\\rm cycl}$\")\n",
    "ax[0].legend(loc=4)\n",
    "\n",
    "\n",
    "\n",
    "fig.colorbar(mpl.cm.ScalarMappable(norm=norm, cmap=colorm),cax=ax[1], orientation='horizontal', label=\"Power\")\n",
    "fig.savefig('plots/dymamic_power_spec_90.png', bbox_inches='tight')\n"
   ]
  },
  {
   "cell_type": "code",
   "execution_count": null,
   "metadata": {},
   "outputs": [],
   "source": [
    "colorm = plt.get_cmap('viridis')\n",
    "#max_freq+=1\n",
    "plt.rcParams.update({'font.size': 22})\n",
    "\n",
    "#for whatever reason min and np.min do not want to work\n",
    "#with an array consisting of multiple arrays of different lengths\n",
    "#filling small ones with zeros will ruin some things btw\n",
    "\n",
    "mins=[]\n",
    "maxs=[]\n",
    "for po in pow_180: \n",
    "    mins.append(min(po))\n",
    "    maxs.append(max(po))\n",
    "\n",
    "min_gl=min(mins)\n",
    "max_gl=max(maxs)\n",
    "\n",
    "norm = mpl.colors.Normalize(vmin=min_gl, vmax=max_gl)\n",
    "\n",
    "\n",
    "\n",
    "fig, ax = plt.subplots(figsize=(10, 10), layout='constrained', nrows=2,height_ratios=[15,1])\n",
    "plt.subplots_adjust(hspace=10)\n",
    "fig.suptitle(r'Dynamic power spectrum, $\\theta_{\\rm obs}=180$° (South pole)')\n",
    "ax[0].set_xlabel(r'Freq, Hz', fontsize=25)\n",
    "ax[0].set_ylabel(r'Simulation time, s', fontsize=25)\n",
    "\n",
    "\n",
    "\n",
    "for ind, freq_arr in enumerate(freq_180):\n",
    "    for el_num, el in enumerate(freq_180[ind]):\n",
    "        \n",
    "        y=[start_times[ind],start_times[ind],start_times[ind+1],start_times[ind+1]]\n",
    "        if(el_num+1!=len(freq_180[ind])):\n",
    "            x=[freq_180[ind][el_num],freq_180[ind][el_num+1],freq_180[ind][el_num+1],freq_180[ind][el_num]]\n",
    "        else:\n",
    "            x=[freq_180[ind][el_num],max_freq,max_freq,freq_180[ind][el_num]]\n",
    "        ax[0].fill(x, y,facecolor=colorm(norm(pow_180[ind][el_num])),edgecolor =colorm(norm(pow_180[ind][el_num])))\n",
    "\n",
    "\n",
    "ax[0].plot(om_avg_cycl[::6],t_omega_cycl[::6], color='#ff4538',linewidth=3, label=r\"$\\nu_{\\rm cycl}$\",linestyle='solid')\n",
    "ax[0].plot(om_avg[::21],t_omega[::21], color='tab:orange',linewidth=3, label=r\"$\\nu$\", marker='.', markersize=10)\n",
    "ax[0].plot(2*om_avg[::21],t_omega[::21], color='#f2ff38',linewidth=3, label=r\"$2 \\nu$\", marker='D', markersize=5)\n",
    "#ax[0].plot(2*om_avg_cycl,t_omega_cycl, color='tab:red',linewidth=3, label=r\"$2 \\nu_{\\rm cycl}$\")\n",
    "ax[0].legend(loc=4)\n",
    "\n",
    "\n",
    "\n",
    "\n",
    "fig.colorbar(mpl.cm.ScalarMappable(norm=norm, cmap=colorm),cax=ax[1], orientation='horizontal', label=\"Power\")\n",
    "fig.savefig('plots/dymamic_power_spec_270.png', bbox_inches='tight')\n"
   ]
  }
 ],
 "metadata": {
  "kernelspec": {
   "display_name": "Python 3",
   "language": "python",
   "name": "python3"
  },
  "language_info": {
   "codemirror_mode": {
    "name": "ipython",
    "version": 3
   },
   "file_extension": ".py",
   "mimetype": "text/x-python",
   "name": "python",
   "nbconvert_exporter": "python",
   "pygments_lexer": "ipython3",
   "version": "3.11.9"
  }
 },
 "nbformat": 4,
 "nbformat_minor": 2
}
